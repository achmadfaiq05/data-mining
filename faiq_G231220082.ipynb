{
  "nbformat": 4,
  "nbformat_minor": 0,
  "metadata": {
    "colab": {
      "provenance": []
    },
    "kernelspec": {
      "name": "python3",
      "display_name": "Python 3"
    },
    "language_info": {
      "name": "python"
    }
  },
  "cells": [
    {
      "cell_type": "code",
      "execution_count": 15,
      "metadata": {
        "id": "Vro6EO-5SvXf"
      },
      "outputs": [],
      "source": [
        "import numpy as np\n",
        "from sklearn import preprocessing"
      ]
    },
    {
      "cell_type": "code",
      "source": [
        "input_data = np.array([[5.1, -2.9, 3.3],\n",
        "                        [-1.2, 7.8, -6.1],\n",
        "                         [3.9, 0.4, 2.1],\n",
        "                         [7.3, -9.9, -4.5]])\n"
      ],
      "metadata": {
        "id": "FISuV8qJTf5N"
      },
      "execution_count": 16,
      "outputs": []
    },
    {
      "cell_type": "code",
      "source": [
        "# Binarize data (Binarisasi Data--> mengubah nilainya menjadi 0 dan 1)\n",
        "data_binarized = preprocessing.Binarizer(threshold=2.1).transform(input_data)\n",
        "print(\"\\nBinarized data:\\n\", data_binarized)"
      ],
      "metadata": {
        "colab": {
          "base_uri": "https://localhost:8080/"
        },
        "id": "Sooq8tBWU150",
        "outputId": "2be9e873-6a4f-4ae4-f34a-216f2f8e8532"
      },
      "execution_count": 22,
      "outputs": [
        {
          "output_type": "stream",
          "name": "stdout",
          "text": [
            "\n",
            "Binarized data:\n",
            " [[1. 0. 1.]\n",
            " [0. 1. 0.]\n",
            " [1. 0. 0.]\n",
            " [1. 0. 0.]]\n"
          ]
        }
      ]
    },
    {
      "cell_type": "code",
      "source": [
        "# print mean and standard deviation (cetak rata-rata dan standar devisiasi)\n",
        "print(\"\\nBEFORE:\")\n",
        "print(\"Mean =\", input_data.mean(axis=0))\n",
        "print(\"std deviation =\", input_data.std(axis=0))"
      ],
      "metadata": {
        "colab": {
          "base_uri": "https://localhost:8080/"
        },
        "id": "VfXMIayfV8lb",
        "outputId": "01e1e127-9517-473b-fee3-6a6733eae66e"
      },
      "execution_count": 23,
      "outputs": [
        {
          "output_type": "stream",
          "name": "stdout",
          "text": [
            "\n",
            "BEFORE:\n",
            "Mean = [ 3.775 -1.15  -1.3  ]\n",
            "std deviation = [3.12039661 6.36651396 4.0620192 ]\n"
          ]
        }
      ]
    },
    {
      "cell_type": "code",
      "source": [
        "# Mengapus rata-rata\n",
        "data_scaled = preprocessing.scale(input_data)\n",
        "print(\"\\nAFTER:\")\n",
        "print(\"mean =\", data_scaled.mean(axis=0))\n",
        "print(\"std deviation =\", data_scaled.std(axis=0))"
      ],
      "metadata": {
        "colab": {
          "base_uri": "https://localhost:8080/"
        },
        "id": "-nhGaNZ1afyp",
        "outputId": "cda48b48-ca27-4108-ce5b-f529e4a286d6"
      },
      "execution_count": 24,
      "outputs": [
        {
          "output_type": "stream",
          "name": "stdout",
          "text": [
            "\n",
            "AFTER:\n",
            "mean = [1.11022302e-16 0.00000000e+00 2.77555756e-17]\n",
            "std deviation = [1. 1. 1.]\n"
          ]
        }
      ]
    },
    {
      "cell_type": "code",
      "source": [
        "# Min max scaling (Menentukan Nilai Max dan Min)\n",
        "data_scaler_minmax = preprocessing.MinMaxScaler(feature_range=(0, 1))\n",
        "data_scaled_minmax = data_scaler_minmax.fit_transform(input_data)\n",
        "print(\"\\nMin max scaled data:\\n\", data_scaled_minmax)"
      ],
      "metadata": {
        "colab": {
          "base_uri": "https://localhost:8080/"
        },
        "id": "FA_w3csGbkPg",
        "outputId": "e22dc2aa-0c1b-4541-a2cb-466e268bd7ae"
      },
      "execution_count": 32,
      "outputs": [
        {
          "output_type": "stream",
          "name": "stdout",
          "text": [
            "\n",
            "Min max scaled data:\n",
            " [[0.74117647 0.39548023 1.        ]\n",
            " [0.         1.         0.        ]\n",
            " [0.6        0.5819209  0.87234043]\n",
            " [1.         0.         0.17021277]]\n"
          ]
        }
      ]
    },
    {
      "cell_type": "code",
      "source": [
        "# Normalize data (Nomalisasi Data)\n",
        "data_normalized_l1 = preprocessing.normalize(input_data, norm='l1')\n",
        "data_normalized_l2 = preprocessing.normalize(input_data, norm='l2')\n",
        "print(\"\\nL1 normalized data:\\n\", data_normalized_l1)\n",
        "print(\"\\nL2 normalized data:\\n\", data_normalized_l2)"
      ],
      "metadata": {
        "colab": {
          "base_uri": "https://localhost:8080/"
        },
        "id": "RphGlBlae7Jv",
        "outputId": "fe50afe7-cacc-4418-993d-2f21506f2a85"
      },
      "execution_count": 33,
      "outputs": [
        {
          "output_type": "stream",
          "name": "stdout",
          "text": [
            "\n",
            "L1 normalized data:\n",
            " [[ 0.45132743 -0.25663717  0.2920354 ]\n",
            " [-0.0794702   0.51655629 -0.40397351]\n",
            " [ 0.609375    0.0625      0.328125  ]\n",
            " [ 0.33640553 -0.4562212  -0.20737327]]\n",
            "\n",
            "L2 normalized data:\n",
            " [[ 0.75765788 -0.43082507  0.49024922]\n",
            " [-0.12030718  0.78199664 -0.61156148]\n",
            " [ 0.87690281  0.08993875  0.47217844]\n",
            " [ 0.55734935 -0.75585734 -0.34357152]]\n"
          ]
        }
      ]
    }
  ]
}